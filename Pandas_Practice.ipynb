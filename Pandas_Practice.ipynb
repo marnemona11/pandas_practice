{
 "cells": [
  {
   "cell_type": "code",
   "execution_count": 3,
   "metadata": {},
   "outputs": [
    {
     "name": "stdout",
     "output_type": "stream",
     "text": [
      "0    11\n",
      "1    13\n",
      "2    17\n",
      "3    19\n",
      "4    21\n",
      "5    23\n",
      "dtype: int64\n"
     ]
    }
   ],
   "source": [
    "#Write a Pandas program to create and display a one-dimensional array-like object containing an array of data.\n",
    "\n",
    "import pandas as pd\n",
    "\n",
    "dataset=pd.Series([11,13,17,19,21,23])\n",
    "\n",
    "print(dataset)"
   ]
  },
  {
   "cell_type": "code",
   "execution_count": 34,
   "metadata": {},
   "outputs": [
    {
     "name": "stdout",
     "output_type": "stream",
     "text": [
      "Sum of the examination attempts by the students:\n",
      "19\n"
     ]
    }
   ],
   "source": [
    "import pandas as pd\n",
    "import numpy as np\n",
    "exam_data  = {'name': ['Anastasia', 'Dima', 'Katherine', 'James', 'Emily', 'Michael', 'Matthew', 'Laura', 'Kevin', 'Jonas'],\n",
    "        'score': [12.5, 9, 16.5, np.nan, 9, 20, 14.5, np.nan, 8, 19],\n",
    "        'attempts': [1, 3, 2, 3, 2, 3, 1, 1, 2, 1],\n",
    "        'qualify': ['yes', 'no', 'yes', 'no', 'no', 'yes', 'yes', 'no', 'no', 'yes']}\n",
    "labels = ['a', 'b', 'c', 'd', 'e', 'f', 'g', 'h', 'i', 'j']\n",
    "\n",
    "df = pd.DataFrame(exam_data , index=labels)\n",
    "print(\"Sum of the examination attempts by the students:\")\n",
    "print(df['attempts'].sum())\n"
   ]
  },
  {
   "cell_type": "code",
   "execution_count": 15,
   "metadata": {},
   "outputs": [
    {
     "data": {
      "text/plain": [
       "2001-01-07     6\n",
       "2001-01-14     8\n",
       "2001-01-21     2\n",
       "2001-01-28     5\n",
       "2001-02-04    10\n",
       "2001-02-11    11\n",
       "2001-02-18    14\n",
       "2001-02-25     8\n",
       "2001-03-04    11\n",
       "2001-03-11     8\n",
       "2001-03-18     9\n",
       "2001-03-25    12\n",
       "Freq: W-SUN, dtype: int32"
      ]
     },
     "execution_count": 15,
     "metadata": {},
     "output_type": "execute_result"
    }
   ],
   "source": [
    "#create a TimeSeries starting ‘2001-01-01’ and 12 weekends (Sundays) after that having random numbers as values?\n",
    "\n",
    "import pandas as pd\n",
    "import numpy as np\n",
    "\n",
    "ser = pd.Series(np.random.randint(1,15,12), pd.date_range('2001-01-01', periods=12, freq='W-SUN'))\n",
    "ser\n",
    "\n"
   ]
  },
  {
   "cell_type": "code",
   "execution_count": 17,
   "metadata": {},
   "outputs": [
    {
     "name": "stdout",
     "output_type": "stream",
     "text": [
      "C:\\Users\\MonaliMarne\n"
     ]
    }
   ],
   "source": [
    "#Printing current working dictionary\n",
    "import os\n",
    "\n",
    "print(os.getcwd())"
   ]
  },
  {
   "cell_type": "code",
   "execution_count": 18,
   "metadata": {},
   "outputs": [
    {
     "name": "stdout",
     "output_type": "stream",
     "text": [
      "  Category  Marks\n",
      "0    Array     20\n",
      "1    Stack     21\n",
      "2    Queue     19\n"
     ]
    }
   ],
   "source": [
    "import pandas as pd  \n",
    "  \n",
    "data = {'Category':['Array', 'Stack', 'Queue'], \n",
    "        'Marks':[20, 21, 19]}  \n",
    "    \n",
    "df = pd.DataFrame(data)    \n",
    "print(df ) \n"
   ]
  },
  {
   "cell_type": "code",
   "execution_count": 19,
   "metadata": {},
   "outputs": [
    {
     "name": "stdout",
     "output_type": "stream",
     "text": [
      "  Category  Student_1  Student_2\n",
      "0    Array         20         15\n",
      "1    Stack         21         20\n",
      "2    Queue         19         14\n",
      "               0      1      2\n",
      "Category   Array  Stack  Queue\n",
      "Student_1     20     21     19\n",
      "Student_2     15     20     14\n"
     ]
    }
   ],
   "source": [
    "import pandas as pd  \n",
    "\n",
    "data = {'Category':['Array', 'Stack', 'Queue'], \n",
    "        'Student_1':[20, 21, 19], 'Student_2':[15, 20, 14]}  \n",
    "  \n",
    "df = pd.DataFrame(data)  \n",
    "print (df)\n",
    "    \n",
    "print(df.transpose()) "
   ]
  },
  {
   "cell_type": "code",
   "execution_count": 20,
   "metadata": {},
   "outputs": [
    {
     "name": "stdout",
     "output_type": "stream",
     "text": [
      "  Category         Name  Marks\n",
      "0       DS  Linked_list     10\n",
      "1       DS        Stack      9\n",
      "2       DS        Queue      7\n",
      "3     Algo       Greedy      8\n",
      "4     Algo           DP      6\n",
      "5     Algo    BackTrack      5\n"
     ]
    }
   ],
   "source": [
    "#List\n",
    "import pandas as pd  \n",
    " \n",
    "data = [['DS', 'Linked_list', 10], ['DS', 'Stack', 9], ['DS', 'Queue', 7], \n",
    "        ['Algo', 'Greedy', 8], ['Algo', 'DP', 6], ['Algo', 'BackTrack', 5], ]  \n",
    "  \n",
    "df = pd.DataFrame(data, columns = ['Category', 'Name', 'Marks'])  \n",
    "  \n",
    "print(df ) "
   ]
  },
  {
   "cell_type": "code",
   "execution_count": 23,
   "metadata": {},
   "outputs": [
    {
     "name": "stdout",
     "output_type": "stream",
     "text": [
      "     Team  Age  Score\n",
      "0   Peter   18      7\n",
      "1    Riff   15      6\n",
      "2    John   17      8\n",
      "3  Michel   18      7\n",
      "4   Sheli   17      5\n"
     ]
    }
   ],
   "source": [
    "#tuple\n",
    "import pandas as pd \n",
    "  \n",
    "data = [('Peter', 18, 7), \n",
    "        ('Riff', 15, 6), \n",
    "        ('John', 17, 8), \n",
    "        ('Michel', 18, 7), \n",
    "        ('Sheli', 17, 5) ] \n",
    "#from records method\n",
    "df = pd.DataFrame.from_records(data, columns =['Team', 'Age', 'Score']) \n",
    "print(df)"
   ]
  },
  {
   "cell_type": "code",
   "execution_count": 27,
   "metadata": {},
   "outputs": [
    {
     "name": "stdout",
     "output_type": "stream",
     "text": [
      "     Team  Age  Score\n",
      "0   Peter   18      7\n",
      "1    Riff   15      6\n",
      "2    John   17      8\n",
      "3  Michel   18      7\n",
      "4   Sheli   17      5\n",
      "\n",
      "Score      5     6     7     8\n",
      "Team                          \n",
      "John     NaN   NaN   NaN  17.0\n",
      "Michel   NaN   NaN  18.0   NaN\n",
      "Peter    NaN   NaN  18.0   NaN\n",
      "Riff     NaN  15.0   NaN   NaN\n",
      "Sheli   17.0   NaN   NaN   NaN\n"
     ]
    }
   ],
   "source": [
    "import pandas as pd \n",
    "  \n",
    "data = [('Peter', 18, 7), \n",
    "        ('Riff', 15, 6), \n",
    "    ('John', 17, 8), \n",
    "    ('Michel', 18, 7), \n",
    "    ('Sheli', 17, 5) ] \n",
    "  \n",
    "df = pd.DataFrame(data, columns =['Team', 'Age', 'Score']) \n",
    "print(df)\n",
    "print() \n",
    "# Dataframe.pivothandles duplicate values for one index/column pair.\n",
    "a = df.pivot('Team', 'Score','Age') \n",
    "print(a) "
   ]
  },
  {
   "cell_type": "code",
   "execution_count": 30,
   "metadata": {},
   "outputs": [
    {
     "name": "stdout",
     "output_type": "stream",
     "text": [
      "     Author  Article\n",
      "0  Jitender      210\n",
      "1   Purnima      211\n",
      "2     Arpit      114\n",
      "3     Jyoti      178\n",
      "\n",
      "     Author  Article   Age\n",
      "0  Jitender      210  21.0\n",
      "1   Purnima      211  21.0\n",
      "2     Arpit      114  23.0\n",
      "3     Jyoti      178   NaN\n"
     ]
    }
   ],
   "source": [
    "# Handle missing values in Data frame\n",
    "\n",
    "import pandas as pd \n",
    "import matplotlib.pyplot as plt \n",
    "  \n",
    "author = ['Jitender', 'Purnima', 'Arpit', 'Jyoti'] \n",
    "article = [210, 211, 114, 178] \n",
    "  \n",
    "auth_series = pd.Series(author) \n",
    "article_series = pd.Series(article) \n",
    "  \n",
    "df= { 'Author': auth_series, 'Article': article_series } \n",
    "  \n",
    "DfResult = pd.DataFrame(df) \n",
    "\n",
    "print(DfResult)\n",
    "print()\n",
    "age = [21, 21, 23] \n",
    "  \n",
    "result['Age'] = pd.Series(age) \n",
    "  \n",
    "print(result) "
   ]
  },
  {
   "cell_type": "code",
   "execution_count": 32,
   "metadata": {},
   "outputs": [
    {
     "name": "stdout",
     "output_type": "stream",
     "text": [
      "            Date    Event  Cost \n",
      "0      10/2/2011    Music  10000\n",
      "1      11/2/2011   Poetry  12000\n",
      "2      12/2/2011  Theatre   5000\n",
      "3      13/2/2011   Comedy   8000\n"
     ]
    }
   ],
   "source": [
    "import pandas as pd \n",
    "from io import StringIO \n",
    "  \n",
    "# string data \n",
    "StringData = StringIO(\"\"\"Date|Event|Cost \n",
    "    10/2/2011|Music|10000 \n",
    "    11/2/2011|Poetry|12000 \n",
    "    12/2/2011|Theatre|5000 \n",
    "    13/2/2011|Comedy|8000 \n",
    "    \"\"\") \n",
    "#sep=separtaion/delimeter\n",
    "df = pd.read_csv(StringData, sep =\"|\") \n",
    "print(df) \n"
   ]
  },
  {
   "cell_type": "code",
   "execution_count": 33,
   "metadata": {},
   "outputs": [
    {
     "name": "stdout",
     "output_type": "stream",
     "text": [
      "[['10/2/2011', 'Music', 10000], ['11/2/2011', 'Poetry', 5000], ['12/2/2011', 'Theatre', 15000]]\n"
     ]
    }
   ],
   "source": [
    "import pandas as pd  \n",
    "\n",
    "df = pd.DataFrame({'Date':['10/2/2011', '11/2/2011', '12/2/2011', '13/2/11'],  \n",
    "                    'Event':['Music', 'Poetry', 'Theatre', 'Comedy'],  \n",
    "                    'Cost':[10000, 5000, 15000, 2000]})  \n",
    "\n",
    "Row_list =[]  \n",
    "    \n",
    "# Iterate over each row  \n",
    "for i in range((df.shape[0])):      \n",
    "#Using iloc to access the values of \n",
    "    Row_list.append(list(df.iloc[i, :]))  \n",
    "    \n",
    "# Print the first 3 elements  \n",
    "print(Row_list[:3])"
   ]
  },
  {
   "cell_type": "code",
   "execution_count": 39,
   "metadata": {},
   "outputs": [
    {
     "name": "stdout",
     "output_type": "stream",
     "text": [
      "        Date     Product  Updated_Price  Discount\n",
      "0  10/2/2011    UMbreLla           1250        10\n",
      "1  11/2/2011     maTress           1450         8\n",
      "2  12/2/2011  BaDmintoN            1550        15\n",
      "3  13/2/2011     Shuttle            400        10\n",
      "\n",
      "        Date    Product  Updated_Price  Discount\n",
      "0  10/2/2011   Umbrella           1250        10\n",
      "1  11/2/2011    Matress           1450         8\n",
      "2  12/2/2011  Badminton           1550        15\n",
      "3  13/2/2011    Shuttle            400        10\n"
     ]
    }
   ],
   "source": [
    "import pandas as pd \n",
    "  \n",
    "# Create the dataframe \n",
    "df = pd.DataFrame({'Date':['10/2/2011', '11/2/2011', '12/2/2011', '13/2/2011'], \n",
    "                   'Product':[' UMbreLla', '  maTress', 'BaDmintoN ', 'Shuttle'], \n",
    "                   'Updated_Price':[1250, 1450, 1550, 400], \n",
    "                   'Discount':[10, 8, 15, 10]}) \n",
    "  \n",
    "print(df) \n",
    "print()\n",
    "#applying dataframe.apply method\n",
    "df['Product'] = df['Product'].apply(lambda x : x.strip().capitalize()) \n",
    "\n",
    "print(df)"
   ]
  },
  {
   "cell_type": "code",
   "execution_count": 40,
   "metadata": {},
   "outputs": [
    {
     "data": {
      "text/html": [
       "<div>\n",
       "<style scoped>\n",
       "    .dataframe tbody tr th:only-of-type {\n",
       "        vertical-align: middle;\n",
       "    }\n",
       "\n",
       "    .dataframe tbody tr th {\n",
       "        vertical-align: top;\n",
       "    }\n",
       "\n",
       "    .dataframe thead th {\n",
       "        text-align: right;\n",
       "    }\n",
       "</style>\n",
       "<table border=\"1\" class=\"dataframe\">\n",
       "  <thead>\n",
       "    <tr style=\"text-align: right;\">\n",
       "      <th></th>\n",
       "      <th>Geeks</th>\n",
       "      <th>For</th>\n",
       "      <th>geeks</th>\n",
       "    </tr>\n",
       "  </thead>\n",
       "  <tbody>\n",
       "    <tr>\n",
       "      <th>ind1</th>\n",
       "      <td>dataframe</td>\n",
       "      <td>using</td>\n",
       "      <td>list</td>\n",
       "    </tr>\n",
       "    <tr>\n",
       "      <th>ind2</th>\n",
       "      <td>10</td>\n",
       "      <td>20</td>\n",
       "      <td>30</td>\n",
       "    </tr>\n",
       "  </tbody>\n",
       "</table>\n",
       "</div>"
      ],
      "text/plain": [
       "          Geeks    For geeks\n",
       "ind1  dataframe  using  list\n",
       "ind2         10     20    30"
      ]
     },
     "execution_count": 40,
     "metadata": {},
     "output_type": "execute_result"
    }
   ],
   "source": [
    "import pandas as pd  \n",
    "    \n",
    "data = [{'Geeks': 'dataframe', 'For': 'using', 'geeks': 'list'}, \n",
    "        {'Geeks':10, 'For': 20, 'geeks': 30}]  \n",
    " \n",
    "df = pd.DataFrame(data, index =['ind1', 'ind2'])   \n",
    "df  "
   ]
  },
  {
   "cell_type": "code",
   "execution_count": null,
   "metadata": {},
   "outputs": [],
   "source": []
  }
 ],
 "metadata": {
  "kernelspec": {
   "display_name": "Python 3",
   "language": "python",
   "name": "python3"
  },
  "language_info": {
   "codemirror_mode": {
    "name": "ipython",
    "version": 3
   },
   "file_extension": ".py",
   "mimetype": "text/x-python",
   "name": "python",
   "nbconvert_exporter": "python",
   "pygments_lexer": "ipython3",
   "version": "3.8.3"
  }
 },
 "nbformat": 4,
 "nbformat_minor": 4
}
